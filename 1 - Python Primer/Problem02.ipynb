{
 "cells": [
  {
   "cell_type": "markdown",
   "id": "dca6c2e0-56af-4a80-910b-f01dac0d0aca",
   "metadata": {},
   "source": [
    "### Multiplication Table"
   ]
  },
  {
   "cell_type": "code",
   "execution_count": 23,
   "id": "5da100bf-3c61-4f8b-a1e6-52a3d0978532",
   "metadata": {},
   "outputs": [
    {
     "name": "stdout",
     "output_type": "stream",
     "text": [
      "2 x 2 = 4     2 x 3 = 6     2 x 4 = 8     2 x 5 = 10     2 x 6 = 12     2 x 7 = 14     2 x 8 = 16     2 x 9 = 18     2 x 10 = 20     \n",
      "\n",
      "3 x 2 = 6     3 x 3 = 9     3 x 4 = 12     3 x 5 = 15     3 x 6 = 18     3 x 7 = 21     3 x 8 = 24     3 x 9 = 27     3 x 10 = 30     \n",
      "\n",
      "4 x 2 = 8     4 x 3 = 12     4 x 4 = 16     4 x 5 = 20     4 x 6 = 24     4 x 7 = 28     4 x 8 = 32     4 x 9 = 36     4 x 10 = 40     \n",
      "\n",
      "5 x 2 = 10     5 x 3 = 15     5 x 4 = 20     5 x 5 = 25     5 x 6 = 30     5 x 7 = 35     5 x 8 = 40     5 x 9 = 45     5 x 10 = 50     \n",
      "\n",
      "6 x 2 = 12     6 x 3 = 18     6 x 4 = 24     6 x 5 = 30     6 x 6 = 36     6 x 7 = 42     6 x 8 = 48     6 x 9 = 54     6 x 10 = 60     \n",
      "\n",
      "7 x 2 = 14     7 x 3 = 21     7 x 4 = 28     7 x 5 = 35     7 x 6 = 42     7 x 7 = 49     7 x 8 = 56     7 x 9 = 63     7 x 10 = 70     \n",
      "\n",
      "8 x 2 = 16     8 x 3 = 24     8 x 4 = 32     8 x 5 = 40     8 x 6 = 48     8 x 7 = 56     8 x 8 = 64     8 x 9 = 72     8 x 10 = 80     \n",
      "\n",
      "9 x 2 = 18     9 x 3 = 27     9 x 4 = 36     9 x 5 = 45     9 x 6 = 54     9 x 7 = 63     9 x 8 = 72     9 x 9 = 81     9 x 10 = 90     \n",
      "\n",
      "10 x 2 = 20     10 x 3 = 30     10 x 4 = 40     10 x 5 = 50     10 x 6 = 60     10 x 7 = 70     10 x 8 = 80     10 x 9 = 90     10 x 10 = 100     \n",
      "\n"
     ]
    }
   ],
   "source": [
    "for x in range(2, 11):\n",
    "    for y in range(2, 11):\n",
    "            value = x * y\n",
    "            print(str(x) + \" x \" + str(y) + \" = \" + str(value), end=\"     \")\n",
    "    print('\\n')   "
   ]
  },
  {
   "cell_type": "markdown",
   "id": "ae740c07-4e73-410e-8a18-c1bd3f71b509",
   "metadata": {},
   "source": [
    "### Multiplication Table without Repetition"
   ]
  },
  {
   "cell_type": "code",
   "execution_count": 24,
   "id": "a67951c8-a31e-41ba-8d43-7f996df568d8",
   "metadata": {},
   "outputs": [
    {
     "name": "stdout",
     "output_type": "stream",
     "text": [
      "2 x 2 = 4     2 x 3 = 6     2 x 4 = 8     2 x 5 = 10     2 x 6 = 12     2 x 7 = 14     2 x 8 = 16     2 x 9 = 18     2 x 10 = 20     \n",
      "\n",
      "3 x 3 = 9     3 x 4 = 12     3 x 5 = 15     3 x 6 = 18     3 x 7 = 21     3 x 8 = 24     3 x 9 = 27     3 x 10 = 30     \n",
      "\n",
      "4 x 4 = 16     4 x 5 = 20     4 x 6 = 24     4 x 7 = 28     4 x 8 = 32     4 x 9 = 36     4 x 10 = 40     \n",
      "\n",
      "5 x 5 = 25     5 x 6 = 30     5 x 7 = 35     5 x 8 = 40     5 x 9 = 45     5 x 10 = 50     \n",
      "\n",
      "6 x 6 = 36     6 x 7 = 42     6 x 8 = 48     6 x 9 = 54     6 x 10 = 60     \n",
      "\n",
      "7 x 7 = 49     7 x 8 = 56     7 x 9 = 63     7 x 10 = 70     \n",
      "\n",
      "8 x 8 = 64     8 x 9 = 72     8 x 10 = 80     \n",
      "\n",
      "9 x 9 = 81     9 x 10 = 90     \n",
      "\n",
      "10 x 10 = 100     \n",
      "\n"
     ]
    }
   ],
   "source": [
    "for x in range(2, 11):\n",
    "    for y in range(x, 11):\n",
    "            value = x * y\n",
    "            print(str(x) + \" x \" + str(y) + \" = \" + str(value), end=\"     \")\n",
    "    print('\\n')   "
   ]
  },
  {
   "cell_type": "code",
   "execution_count": 18,
   "id": "07412bd8-6a8c-4897-9dfc-f066858462f7",
   "metadata": {},
   "outputs": [
    {
     "name": "stdout",
     "output_type": "stream",
     "text": [
      "2 x 2 = 4     2 x 3 = 6     2 x 4 = 8     2 x 5 = 10     2 x 6 = 12     2 x 7 = 14     2 x 8 = 16     2 x 9 = 18     2 x 10 = 20     \n",
      "\n",
      "3 x 3 = 9     3 x 4 = 12     3 x 5 = 15     3 x 6 = 18     3 x 7 = 21     3 x 8 = 24     3 x 9 = 27     3 x 10 = 30     \n",
      "\n",
      "4 x 4 = 16     4 x 5 = 20     4 x 6 = 24     4 x 7 = 28     4 x 8 = 32     4 x 9 = 36     4 x 10 = 40     \n",
      "\n",
      "5 x 5 = 25     5 x 6 = 30     5 x 7 = 35     5 x 8 = 40     5 x 9 = 45     5 x 10 = 50     \n",
      "\n",
      "6 x 6 = 36     6 x 7 = 42     6 x 8 = 48     6 x 9 = 54     6 x 10 = 60     \n",
      "\n",
      "7 x 7 = 49     7 x 8 = 56     7 x 9 = 63     7 x 10 = 70     \n",
      "\n",
      "8 x 8 = 64     8 x 9 = 72     8 x 10 = 80     \n",
      "\n",
      "9 x 9 = 81     9 x 10 = 90     \n",
      "\n",
      "10 x 10 = 100     \n",
      "\n"
     ]
    }
   ],
   "source": [
    "x = 2\n",
    "while(x < 11):\n",
    "    y = x\n",
    "    while (y < 11):\n",
    "            value = x * y\n",
    "            print(str(x) + \" x \" + str(y) + \" = \" + str(value), end=\"     \")\n",
    "            \n",
    "            y += 1\n",
    "    \n",
    "    print('\\n')\n",
    "    x += 1"
   ]
  },
  {
   "cell_type": "code",
   "execution_count": null,
   "id": "287fd177-1472-4196-8ad3-cb75855d0983",
   "metadata": {},
   "outputs": [],
   "source": []
  },
  {
   "cell_type": "code",
   "execution_count": null,
   "id": "2dd03794-4c67-46fe-b6bf-356697541375",
   "metadata": {},
   "outputs": [],
   "source": []
  }
 ],
 "metadata": {
  "kernelspec": {
   "display_name": "Python 3 (ipykernel)",
   "language": "python",
   "name": "python3"
  },
  "language_info": {
   "codemirror_mode": {
    "name": "ipython",
    "version": 3
   },
   "file_extension": ".py",
   "mimetype": "text/x-python",
   "name": "python",
   "nbconvert_exporter": "python",
   "pygments_lexer": "ipython3",
   "version": "3.9.12"
  }
 },
 "nbformat": 4,
 "nbformat_minor": 5
}
