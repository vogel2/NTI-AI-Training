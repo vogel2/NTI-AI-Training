{
 "cells": [
  {
   "cell_type": "code",
   "execution_count": 12,
   "id": "1bcc4bce",
   "metadata": {},
   "outputs": [
    {
     "name": "stdout",
     "output_type": "stream",
     "text": [
      "Enter G 123131\n",
      "Enter M Earth 1231\n",
      "Enter M Moon 1231\n",
      "Enter r 10000000000000000000\n",
      "1.86587915291e-27\n"
     ]
    }
   ],
   "source": [
    "G = eval(input(\"Enter G \"))\n",
    "Mearth = eval(input(\"Enter M Earth \"))\n",
    "Mmoon = eval(input(\"Enter M Moon \"))\n",
    "r = eval(input(\"Enter r \"))\n",
    "\n",
    "F = (G * Mearth * Mmoon) / (r*r)\n",
    "print(eval(str(float(F))))\n",
    "      "
   ]
  }
 ],
 "metadata": {
  "kernelspec": {
   "display_name": "Python 3 (ipykernel)",
   "language": "python",
   "name": "python3"
  },
  "language_info": {
   "codemirror_mode": {
    "name": "ipython",
    "version": 3
   },
   "file_extension": ".py",
   "mimetype": "text/x-python",
   "name": "python",
   "nbconvert_exporter": "python",
   "pygments_lexer": "ipython3",
   "version": "3.9.12"
  }
 },
 "nbformat": 4,
 "nbformat_minor": 5
}
