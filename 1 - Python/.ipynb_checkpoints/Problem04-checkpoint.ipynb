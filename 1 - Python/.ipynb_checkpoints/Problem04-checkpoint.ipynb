{
 "cells": [
  {
   "cell_type": "code",
   "execution_count": 5,
   "id": "1bcc4bce",
   "metadata": {},
   "outputs": [
    {
     "name": "stdout",
     "output_type": "stream",
     "text": [
      "Enter G2.16e-22\n",
      "Enter M Earth12e10\n",
      "Enter M Moon21e9\n",
      "Enter r12e0\n",
      "0.0037800000000000004\n"
     ]
    }
   ],
   "source": [
    "G = eval(input(\"Enter G \"))\n",
    "Mearth = eval(input(\"Enter M Earth\"))\n",
    "Mmoon = eval(input(\"Enter M Moon\"))\n",
    "r = eval(input(\"Enter r\"))\n",
    "\n",
    "F = (G * Mearth * Mmoon) / (r*r)\n",
    "print(F)"
   ]
  },
  {
   "cell_type": "markdown",
   "id": "e5864794",
   "metadata": {},
   "source": [
    "# 6."
   ]
  },
  {
   "cell_type": "code",
   "execution_count": null,
   "id": "7e91fdf9",
   "metadata": {},
   "outputs": [],
   "source": []
  }
 ],
 "metadata": {
  "kernelspec": {
   "display_name": "Python 3 (ipykernel)",
   "language": "python",
   "name": "python3"
  },
  "language_info": {
   "codemirror_mode": {
    "name": "ipython",
    "version": 3
   },
   "file_extension": ".py",
   "mimetype": "text/x-python",
   "name": "python",
   "nbconvert_exporter": "python",
   "pygments_lexer": "ipython3",
   "version": "3.9.12"
  }
 },
 "nbformat": 4,
 "nbformat_minor": 5
}
